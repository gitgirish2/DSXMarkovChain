{
 "cells": [
  {
   "cell_type": "code",
   "execution_count": 34,
   "metadata": {},
   "outputs": [],
   "source": [
    "from collections import defaultdict, Counter\n",
    "from numpy import cumsum, sum, searchsorted\n",
    "from numpy.random import rand\n",
    "from random import randint"
   ]
  },
  {
   "cell_type": "code",
   "execution_count": 35,
   "metadata": {},
   "outputs": [],
   "source": [
    "#import your 2states.txt object here\n"
   ]
  },
  {
   "cell_type": "code",
   "execution_count": 36,
   "metadata": {},
   "outputs": [],
   "source": [
    "class MarkovChain(object):\n",
    "    # Initiate our MarkovChain\n",
    "    def __init__(self, order=1):\n",
    "\n",
    "        # Create our transitions\n",
    "        self._transitions = defaultdict(int)\n",
    "\n",
    "        # Set our order\n",
    "        self._order = order\n",
    "\n",
    "        # Create an empty list of letters\n",
    "        self._symbols = list()\n",
    "         # Train our chain on words\n",
    "    def train(self, sequence):\n",
    "        # Turn our words in to a list of characters\n",
    "        sequence_list = list(set(sequence))\n",
    "\n",
    "        # Add our sequence passed in to our chain\n",
    "        self._symbols.extend(sequence_list)\n",
    "\n",
    "        # For each character in our chain\n",
    "        for i in range(len(sequence)-self._order):\n",
    "            # \"Letters i to i + 2 will be once more likely to be followed by i + 3\"\n",
    "            self._transitions[sequence[i:i+self._order], sequence[i+self._order]] += 1\n",
    "    # Takes in input a string and predicts the next character.\n",
    "    def predict(self, symbol):\n",
    "        # We expect a certain amount of letters to get started\n",
    "        if len(symbol) != self._order:\n",
    "            raise ValueError('Expected string of %d chars, got %d' % (self._order, len(symbol)))\n",
    "\n",
    "        # Grab the probably letters that come after the symbol passed in\n",
    "        probs = [self._transitions[(symbol, s)] for s in self._symbols]\n",
    "\n",
    "        # Add some weighted randomness to the result\n",
    "        return self._symbols[self._weighted_pick(probs)]\n",
    "     # Generates n characters from start.\n",
    "    def generate(self, start, n):\n",
    "        result = start\n",
    "\n",
    "        # Foreach in n\n",
    "        for i in range(n):\n",
    "            # Get the next letter\n",
    "            new = self.predict(start)\n",
    "\n",
    "            # Add that letter to our output\n",
    "            result += new\n",
    "\n",
    "            # Our next start should be the new, minus the first letter of the old. So \"abc\" -> \"abcd\" -> \"bcd\"\n",
    "            start = start[1:] + new\n",
    "        return result\n",
    "\n",
    "    # Weighted random selection returns n_picks random indexes. The chance to pick the index i is given by weights[i].\n",
    "    @staticmethod\n",
    "    def _weighted_pick(weights):\n",
    "        return searchsorted(cumsum(weights), rand()*sum(weights))"
   ]
  },
  {
   "cell_type": "code",
   "execution_count": 37,
   "metadata": {},
   "outputs": [
    {
     "name": "stdout",
     "output_type": "stream",
     "text": [
      " joins them day after, on Monday. I thought it will be a good \n",
      "idea if she came home for the weekend.' \n",
      "'Whose home?' my mother said. \n",
      "I lay in bed, I wondered why we even stayed together as a family. I never \n",
      "thought I would, but I missed Chennai. Sure, people there didn't really connect \n",
      "with me, but at least you can accept me.' \n",
      "Ananya's mother came to my room and lay down on the bed with the nightclothes \n",
      "in my lap. \n",
      "'What do you mean wait-listed for business class seat last minute and had to \n",
      "rub shoulder\n"
     ]
    }
   ],
   "source": [
    "   \n",
    "\n",
    "order = 15\n",
    "\n",
    "in_text = ''\n",
    "\n",
    "\n",
    "in_text += data_1.read()\n",
    "\n",
    "mc = MarkovChain(order=order)\n",
    "mc.train(in_text)\n",
    "\n",
    "# Get a random part of the text to start reading from\n",
    "pos = randint(0, len(in_text) - order + 1)\n",
    "\n",
    "# Get some text to start with\n",
    "start = in_text[pos:pos+order]\n",
    "\n",
    "print(mc.generate(start, 500))"
   ]
  },
  {
   "cell_type": "code",
   "execution_count": null,
   "metadata": {},
   "outputs": [],
   "source": []
  }
 ],
 "metadata": {
  "kernelspec": {
   "display_name": "Python 2 with Spark 2.1",
   "language": "python",
   "name": "python2-spark21"
  },
  "language_info": {
   "codemirror_mode": {
    "name": "ipython",
    "version": 2
   },
   "file_extension": ".py",
   "mimetype": "text/x-python",
   "name": "python",
   "nbconvert_exporter": "python",
   "pygments_lexer": "ipython2",
   "version": "2.7.11"
  }
 },
 "nbformat": 4,
 "nbformat_minor": 1
}
